{
 "cells": [
  {
   "cell_type": "code",
   "execution_count": null,
   "metadata": {},
   "outputs": [],
   "source": [
    "import pandas as pd\n",
    "import numpy as np\n",
    "import gspread\n",
    "import re\n",
    "from df2gspread import df2gspread as d2g\n",
    "from oauth2client.service_account import ServiceAccountCredentials\n",
    "from datetime import date"
   ]
  },
  {
   "cell_type": "code",
   "execution_count": null,
   "metadata": {},
   "outputs": [],
   "source": [
    "#Declaring Google API\n",
    "scope = ['https://spreadsheets.google.com/feeds',\n",
    "            'https://www.googleapis.com/auth/drive']\n",
    "credentials = ServiceAccountCredentials.from_json_keyfile_name ('/SELECTPATH/KEYNAME.json', scope)\n",
    "gc = gspread.authorize(credentials)"
   ]
  },
  {
   "cell_type": "code",
   "execution_count": null,
   "metadata": {},
   "outputs": [],
   "source": [
    "#Declaring Time variables\n",
    "today = date.today().strftime('%m-%d-%Y')\n",
    "ext = '.xlsx'\n",
    "comp = today + ext"
   ]
  },
  {
   "cell_type": "code",
   "execution_count": null,
   "metadata": {},
   "outputs": [],
   "source": [
    "#Data process 1 (jumlah UPV CMS) change file name to 'report.xlsx'\n",
    "dat1 = pd.read_excel('/SELECTPATH/FILENAME1.xlsx')\n",
    "dat1_inhouse = dat1[dat1['Agent Type'] == 'inhouse'].sort_values(\"Project\").drop(labels=['Leads'], axis=1)\n",
    "dat1_jv = dat1[dat1['Agent Type'] == 'inhouse_jv'].sort_values(\"Project\")"
   ]
  },
  {
   "cell_type": "code",
   "execution_count": null,
   "metadata": {},
   "outputs": [],
   "source": [
    "#filtering agent \n",
    "agent= pd.read_excel('/SELECTPATH/FILENAME2.xlsx')\n",
    "active= agent[agent['Status'] != 'Nonactive']\n",
    "email = active.drop(columns= ['Phone', 'Type', 'Captain', 'Office', 'Project', 'Tanggal Pembuatan', 'URL Seller Page'])\n",
    "datmail_inhouse= pd.merge(dat1_inhouse, email, left_on='Referral Link', right_on='Unique Code').drop(columns='Nama_y')\n",
    "datmail_jv= pd.merge(dat1_jv, email, left_on='Referral Link', right_on='Unique Code').drop(columns='Nama_y')"
   ]
  },
  {
   "cell_type": "code",
   "execution_count": null,
   "metadata": {},
   "outputs": [],
   "source": [
    "#SAP data processing\n",
    "dat2 = pd.read_csv('/SELECTPATH/FILENAME3.csv') #ganti path\n",
    "dat2.columns.str.match(\"Unnamed\")\n",
    "dat22 =dat2.loc[:,~dat2.columns.str.match(\"Unnamed\")]\n",
    "dat2_2nd = dat22.drop(columns=['Source - ReportingX', 'Custom Status', 'Phone', 'Year Month (Lead Submission Date)'])\n",
    "dat2_2nd['Source1tf'] = dat2_2nd['Lead Source Name'].str.findall('ECAT.+') #Regex\n",
    "dat2_2nd['source2tf'] = dat2_2nd['Source'].str.findall('.+ecat.+') #Regex"
   ]
  },
  {
   "cell_type": "code",
   "execution_count": null,
   "metadata": {},
   "outputs": [],
   "source": [
    "#filtering CONDITIONALS boolean\n",
    "dat2_2nd['source_t/f'] = dat2_2nd['Source1tf'].astype(str) + '-' + dat2_2nd['source2tf'].astype(str)\n",
    "dat3 = dat2_2nd[dat2_2nd['source_t/f'] != '[]-[]']\n",
    "dat3_2nd = dat3.drop(columns=['Source1tf', 'source2tf'])"
   ]
  },
  {
   "cell_type": "code",
   "execution_count": null,
   "metadata": {},
   "outputs": [],
   "source": [
    "#counting sales leads\n",
    "dat3_2nd['Leads'] = dat3_2nd['E-Mail-Marketing'].map(dat3_2nd['E-Mail-Marketing'].value_counts())\n",
    "dat3_email = dat3_2nd [['E-Mail-Marketing', 'Employee Responsible - Marketing', 'Leads']].drop_duplicates(subset='E-Mail-Marketing', keep='first')"
   ]
  },
  {
   "cell_type": "code",
   "execution_count": null,
   "metadata": {},
   "outputs": [],
   "source": [
    "#Creating Customer Journey\n",
    "ney = dat3_2nd\n",
    "journey = []\n",
    "\n",
    "#making conditionals\n",
    "ney2 = ney[['All Leads', 'Accepted Leads', 'Reachable Leads', 'Follow Up Leads', 'Hot Prospect Leads', 'Won Leads']]\n",
    "ney['sum'] = ney2.count(axis=1)\n",
    "\n",
    "for row in ney['sum']:\n",
    "    if row == 1:\n",
    "        journey.append('All Leads')\n",
    "    elif row == 2:\n",
    "        journey.append('Accepted Leads')\n",
    "    elif row == 3:\n",
    "        journey.append('Reachable Leads')\n",
    "    elif row == 4:\n",
    "        journey.append('Follow Up Leads')\n",
    "    elif row == 5:\n",
    "        journey.append('Hot Prospect Leads')\n",
    "    elif row == 6:\n",
    "        journey.append('WON Leads') \n",
    "\n",
    "    else:\n",
    "        journey.append('NO JOURNEY')\n",
    "        \n",
    "ney['Journey'] = journey"
   ]
  },
  {
   "cell_type": "code",
   "execution_count": null,
   "metadata": {},
   "outputs": [],
   "source": [
    "#adding BSD team and projects\n",
    "leadsacc1 = ney.drop(columns= ['All Leads', 'Accepted Leads', 'Reachable Leads', 'Follow Up Leads', 'Hot Prospect Leads', 'Won Leads', 'Leads', 'sum'])\n",
    "\n",
    "leadsacc1['email-lower'] = leadsacc1['E-Mail-Marketing'].str.lower()\n",
    "agentcode_in = datmail_inhouse[['Unique Code', 'Email']]\n",
    "agentcode_in['email-lower'] = agentcode_in['Email'].str.lower()\n",
    "leadsacc2 = pd.merge(leadsacc1, agentcode_in, how= 'left')\n",
    "\n",
    "#project V2 agent\n",
    "leadsv1 = pd.read_csv('/SELECTPATH/FILENAME4.csv')\n",
    "leadsv2 = leadsv1[['Unique Code', 'Project V2']]\n",
    "leadsv2['Project'] = leadsv2['Project V2']\n",
    "sapmerge = pd.merge(leadsacc2, leadsv2, how= 'left')\n",
    "\n",
    "#BSDTeam\n",
    "team1 = pd.read_csv('/SELECTPATH/FILENAME5.csv')\n",
    "team2 = team1[['Unique Code', 'BSD Team2']]\n",
    "sapmerge2 = pd.merge(sapmerge, team2, how= 'left').drop(columns=['source_t/f', 'Project V2', 'email-lower']).rename(columns={'BSD Team2':'BSD Team'})"
   ]
  },
  {
   "cell_type": "code",
   "execution_count": null,
   "metadata": {},
   "outputs": [],
   "source": [
    "#Team processing\n",
    "dat3_email['email-lower'] = dat3_email['E-Mail-Marketing'].str.lower()\n",
    "datmail_inhouse['email-lower'] = datmail_inhouse['Email'].str.lower()\n",
    "\n",
    "merge_in= pd.merge(dat3_email, datmail_inhouse, how= 'outer')\n",
    "merge_indrop = merge_in.drop(columns= ['E-Mail-Marketing', 'email-lower', 'Referral Link', 'Employee Responsible - Marketing']).dropna(subset= ['Unique Code'])\n",
    "merge_indrop['UPV'] = merge_indrop['UPV']\n",
    "merge_indrop['Leads'] = merge_indrop['Leads'].fillna(0)\n",
    "merge_indrop2= merge_indrop[['Unique Code', 'Nama_x', 'Project', 'Agent Type', 'Email', 'Status', 'UPV', 'Leads']]\n",
    "\n",
    "#changing project to project V2\n",
    "leadsnoproj = leadsv2.drop(columns=['Project'])\n",
    "merge_in2 = pd.merge(merge_indrop2, leadsnoproj, how='left')\n",
    "#adding team\n",
    "merge_in3 = pd.merge(merge_in2, team2, how= 'left').drop(columns= ['Project']).rename(columns= {'BSD Team2':'BSD Team', 'Project V2':'Project', 'Nama_x':'Nama Agent'})"
   ]
  },
  {
   "cell_type": "code",
   "execution_count": null,
   "metadata": {},
   "outputs": [],
   "source": [
    "#JV CMS data processing\n",
    "enq_jv = pd.read_excel('/SELECTPATH/FILENAME6.xlsx')\n",
    "datmail_jv2 = datmail_jv[['Unique Code', 'Nama_x', 'Project', 'Agent Type', 'Email', 'Status', 'UPV', 'Leads']].rename(columns={'Nama_x':'Nama Agent'})\n",
    "#datmail_jv2.loc['Total'] = datmail_jv2.select_dtypes(pd.np.number).sum()\n",
    "\n",
    "#finding leads on enquiries\n",
    "enq2 = enq_jv[enq_jv['Is Duplicate'] != 'YES']\n",
    "enq22 = enq2[enq2['Agent Type'] == 'inhouse_jv']\n",
    "\n",
    "#merging leads to jv only\n",
    "enq2['Lead'] = enq2['Agent Email'].map(enq2['Agent Email'].value_counts())\n",
    "enq3 = enq2[['Unique Code','Lead']].drop_duplicates(subset='Unique Code', keep= 'first')\n",
    "jv = pd.merge(datmail_jv2, enq3, how= 'left').fillna(0).drop(columns=['Leads'])"
   ]
  },
  {
   "cell_type": "code",
   "execution_count": null,
   "metadata": {},
   "outputs": [],
   "source": [
    "#Creating Score UPV Inhouse \n",
    "upv = merge_in3\n",
    "\n",
    "UPVscore= []\n",
    "\n",
    "for row in upv['UPV']:\n",
    "    if row >= 100:\n",
    "        UPVscore.append(4*4)\n",
    "    elif row <= 99 and row >=30:\n",
    "        UPVscore.append(4*3)\n",
    "    elif row <= 29 and row >= 11:\n",
    "        UPVscore.append(4*2)\n",
    "    else:\n",
    "        UPVscore.append(4)\n",
    "\n",
    "upv['UPV score'] = UPVscore\n",
    "#upv.head(5)"
   ]
  },
  {
   "cell_type": "code",
   "execution_count": null,
   "metadata": {},
   "outputs": [],
   "source": [
    "#Creating score Leads Inhouse\n",
    "upvleads = upv\n",
    "leadscore = []\n",
    "\n",
    "for row in upvleads['Leads']:\n",
    "    if row >= 5:\n",
    "        leadscore.append(4*4)\n",
    "    elif row <= 4 and row >=3:\n",
    "        leadscore.append(4*3)\n",
    "    elif row <= 2 and row >= 1:\n",
    "        leadscore.append(4*2)\n",
    "    else:\n",
    "        leadscore.append(4)\n",
    "\n",
    "upvleads['Leads score'] = leadscore\n",
    "#upvleads.head(5)"
   ]
  },
  {
   "cell_type": "code",
   "execution_count": null,
   "metadata": {},
   "outputs": [],
   "source": [
    "#Changing journey won to number\n",
    "won = sapmerge2[sapmerge2['Journey'] == 'WON Leads']\n",
    "won['WON'] = won['Unique Code'].map(won['Unique Code'].value_counts()).drop_duplicates(keep= 'first')\n",
    "won2 = won[['Unique Code', 'WON']]\n",
    "upvwon= pd.merge(upvleads, won2, how= 'left').fillna(0)\n",
    "upvwon= upvwon[['Unique Code', 'Nama Agent', 'Agent Type', 'Email', 'Project', 'BSD Team', 'Status', 'UPV', 'Leads', 'WON', 'UPV score', 'Leads score']]\n",
    "#upvwon.head(5)"
   ]
  },
  {
   "cell_type": "code",
   "execution_count": null,
   "metadata": {},
   "outputs": [],
   "source": [
    "#Creating score WON Inhouse \n",
    "upvleadswon = upvwon\n",
    "wonscore = []\n",
    "\n",
    "for row in upvleadswon['WON']:\n",
    "    if row >= 1:\n",
    "        wonscore.append(row*5)\n",
    "    else:\n",
    "        wonscore.append(0)\n",
    "\n",
    "upvleadswon['WON score'] = wonscore\n",
    "#upvleadswon.head(5)"
   ]
  },
  {
   "cell_type": "code",
   "execution_count": null,
   "metadata": {},
   "outputs": [],
   "source": [
    "#Counting login sales\n",
    "login= pd.read_excel('/Volumes/KINGSTON/Etang LLV/Report/December 2022/SalesGradingFile/agent-login-logs.xlsx')\n",
    "login1= login[login['Success'] == 'Yes']\n",
    "login1['Login per Week']= login1['Unique Code'].map(login1['Unique Code'].value_counts())\n",
    "login2= login1[['Unique Code', 'Login per Week']].drop_duplicates(subset= 'Unique Code', keep= 'first')\n",
    "logmerge= pd.merge(upvleadswon, login2, how= 'left').fillna(0)\n",
    "#logmerge.head(5)"
   ]
  },
  {
   "cell_type": "code",
   "execution_count": null,
   "metadata": {},
   "outputs": [],
   "source": [
    "#Creating score login Inhouse\n",
    "upvleadswonlog = logmerge\n",
    "logscore = []\n",
    "\n",
    "for row in upvleadswonlog['Login per Week']:\n",
    "    if row >= 5:\n",
    "        logscore.append(1*4)\n",
    "    elif row == 4:\n",
    "        logscore.append(1*3)\n",
    "    elif row == 3:\n",
    "        logscore.append(1*2)\n",
    "    else:\n",
    "        logscore.append(1)\n",
    "\n",
    "upvleadswonlog['Login score'] = logscore\n",
    "#upvleadswonlog.head(5)"
   ]
  },
  {
   "cell_type": "code",
   "execution_count": null,
   "metadata": {},
   "outputs": [],
   "source": [
    "#Creating Inhouse total and final score\n",
    "totscore = upvleadswonlog\n",
    "tot= []\n",
    "\n",
    "total = totscore[['UPV score', 'Leads score', 'WON score', 'Login score']]\n",
    "totscore['Total Score'] = total.sum(axis=1)\n",
    "\n",
    "for row in totscore['Total Score']:\n",
    "    if row >= 50:\n",
    "        tot.append('A')\n",
    "    elif row <= 49 and row >= 36:\n",
    "        tot.append('B')\n",
    "    elif row <= 35 and row >= 26:\n",
    "        tot.append('C')\n",
    "    elif row <= 25:\n",
    "        tot.append('D')\n",
    "\n",
    "totscore['Final Grade'] = tot"
   ]
  },
  {
   "cell_type": "code",
   "execution_count": null,
   "metadata": {},
   "outputs": [],
   "source": [
    "#inhouse final file \n",
    "inhousejadi = totscore[['Unique Code', 'Nama Agent', 'Agent Type', 'Email', 'Project', 'BSD Team', 'Status', 'UPV', 'Leads','WON', 'Login per Week', 'UPV score', 'Leads score', 'WON score', 'Login score', 'Total Score',\t'Final Grade']]"
   ]
  },
  {
   "cell_type": "code",
   "execution_count": null,
   "metadata": {},
   "outputs": [],
   "source": [
    "#Creating Score UPV JV\n",
    "jvUPV= []\n",
    "\n",
    "for row in jv['UPV']:\n",
    "    if row >= 100:\n",
    "        jvUPV.append(4*4)\n",
    "    elif row <= 99 and row >=30:\n",
    "        jvUPV.append(4*3)\n",
    "    elif row <= 29 and row >= 11:\n",
    "        jvUPV.append(4*2)\n",
    "    else:\n",
    "        jvUPV.append(4)\n",
    "\n",
    "jv['UPV score'] = jvUPV\n",
    "#jv.head(5)\n"
   ]
  },
  {
   "cell_type": "code",
   "execution_count": null,
   "metadata": {},
   "outputs": [],
   "source": [
    "#Creating score Leads JV\n",
    "jvleads = []\n",
    "\n",
    "for row in jv['Lead']:\n",
    "    if row >= 5:\n",
    "        jvleads.append(4*4)\n",
    "    elif row <= 4 and row >=3:\n",
    "        jvleads.append(4*3)\n",
    "    elif row <= 2 and row >= 1:\n",
    "        jvleads.append(4*2)\n",
    "    else:\n",
    "        jvleads.append(4)\n",
    "\n",
    "jv['Leads score'] = jvleads\n",
    "#jv.head(5)"
   ]
  },
  {
   "cell_type": "code",
   "execution_count": null,
   "metadata": {},
   "outputs": [],
   "source": [
    "#Counting WON jv\n",
    "jvwon = enq_jv[enq_jv['Status'] == 'Won']\n",
    "jvwon['WON'] = jvwon['Unique Code'].map(jvwon['Unique Code'].value_counts()).drop_duplicates(keep= 'first')\n",
    "jvwon2 = jvwon[['Unique Code', 'WON']]\n",
    "jvwon3= pd.merge(jv, jvwon2, how= 'left').fillna(0) \n",
    "#jvwon3.head(5)"
   ]
  },
  {
   "cell_type": "code",
   "execution_count": null,
   "metadata": {},
   "outputs": [],
   "source": [
    "#Creating Won score JV\n",
    "wonscorejv= []\n",
    "\n",
    "for row in jvwon3['WON']:\n",
    "    if row >= 1:\n",
    "        wonscorejv.append(row*5)\n",
    "    else:\n",
    "        wonscorejv.append(0)\n",
    "\n",
    "jvwon3['WON score'] = wonscorejv\n",
    "#jvwon3.head(5)"
   ]
  },
  {
   "cell_type": "code",
   "execution_count": null,
   "metadata": {},
   "outputs": [],
   "source": [
    "#merging login JV\n",
    "jvlogmerge= pd.merge(jvwon3, login2, how= 'left').fillna(0)\n",
    "#jvlogmerge.head(5)"
   ]
  },
  {
   "cell_type": "code",
   "execution_count": null,
   "metadata": {},
   "outputs": [],
   "source": [
    "#Creating Login score JV\n",
    "jvlogscore = []\n",
    "\n",
    "for row in jvlogmerge['Login per Week']:\n",
    "    if row >= 5:\n",
    "        jvlogscore.append(1*4)\n",
    "    elif row == 4:\n",
    "        jvlogscore.append(1*3)\n",
    "    elif row == 3:\n",
    "        jvlogscore.append(1*2)\n",
    "    else:\n",
    "        jvlogscore.append(1)\n",
    "\n",
    "jvlogmerge['Login score'] = jvlogscore\n",
    "#jvlogmerge.head(5)\n"
   ]
  },
  {
   "cell_type": "code",
   "execution_count": null,
   "metadata": {},
   "outputs": [],
   "source": [
    "#Creating JV final Score \n",
    "sumjv= jvlogmerge\n",
    "jvtot= []\n",
    "\n",
    "jvtotal = sumjv[['UPV score', 'Leads score', 'WON score', 'Login score']]\n",
    "sumjv['Total Score'] = jvtotal.sum(axis=1)\n",
    "\n",
    "for row in sumjv['Total Score']:\n",
    "    if row >= 50:\n",
    "        jvtot.append('A')\n",
    "    elif row <= 49 and row >= 36:\n",
    "        jvtot.append('B')\n",
    "    elif row <= 35 and row >= 26:\n",
    "        jvtot.append('C')\n",
    "    elif row <= 25:\n",
    "        jvtot.append('D')\n",
    "\n",
    "sumjv['Final Grade'] = jvtot\n",
    "#sumjv.head(5)"
   ]
  },
  {
   "cell_type": "code",
   "execution_count": null,
   "metadata": {},
   "outputs": [],
   "source": [
    "#jv final file\n",
    "jvjadi = sumjv[['Unique Code', 'Nama Agent', 'Agent Type', 'Email', 'Project', 'Status', 'UPV', 'Lead','WON', 'Login per Week', 'UPV score', 'Leads score', 'WON score', 'Login score', 'Total Score',\t'Final Grade']]"
   ]
  },
  {
   "cell_type": "code",
   "execution_count": null,
   "metadata": {},
   "outputs": [],
   "source": [
    "#this is Worksheet ID\n",
    "Sheet_id= '1VJJJMMOP3-CzS0GSzKRTFkZrVsrSFVFAaLy23UJ9Nb0'\n",
    "#this is Sheet name \n",
    "Sheet_inhouse= 'Inhouse Performance '\n",
    "Sheet_JV= 'Inhouse-JV Performance '\n",
    "\n",
    "d2g.upload(inhousejadi, Sheet_id, Sheet_inhouse + today, credentials= credentials, row_names= False)\n",
    "d2g.upload(jvjadi, Sheet_id, Sheet_JV + today, credentials= credentials, row_names= False)"
   ]
  }
 ],
 "metadata": {
  "kernelspec": {
   "display_name": "Python 3.10.6 64-bit",
   "language": "python",
   "name": "python3"
  },
  "language_info": {
   "codemirror_mode": {
    "name": "ipython",
    "version": 3
   },
   "file_extension": ".py",
   "mimetype": "text/x-python",
   "name": "python",
   "nbconvert_exporter": "python",
   "pygments_lexer": "ipython3",
   "version": "3.10.6"
  },
  "orig_nbformat": 4,
  "vscode": {
   "interpreter": {
    "hash": "aee8b7b246df8f9039afb4144a1f6fd8d2ca17a180786b69acc140d282b71a49"
   }
  }
 },
 "nbformat": 4,
 "nbformat_minor": 2
}
